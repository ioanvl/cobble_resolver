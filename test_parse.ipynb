{
 "cells": [
  {
   "cell_type": "code",
   "execution_count": null,
   "metadata": {},
   "outputs": [],
   "source": [
    "impf = {\n",
    "    \"assets\": {\n",
    "        \"cobblemon\": {\n",
    "            \"bedrock\": {\n",
    "                \"animations\": {},\n",
    "                \"models\": {},\n",
    "                \"posers\": {},\n",
    "                \"species\": {},\n",
    "            },\n",
    "            \"textures\": {\n",
    "                \"pokemon\": {},\n",
    "            },\n",
    "            \"lang\": {},\n",
    "        }\n",
    "    },\n",
    "    \"data\": {\n",
    "        \"cobblemon\": {\n",
    "            \"spawn_pool_world\": {},\n",
    "            \"species\": {},\n",
    "            \"species_additions\": {},\n",
    "            \"species_features\": {},\n",
    "            \"species_features_assignments\": {},\n",
    "        }\n",
    "    },\n",
    "}\n"
   ]
  },
  {
   "cell_type": "code",
   "execution_count": null,
   "metadata": {},
   "outputs": [],
   "source": [
    "target_folder = \"\"\n"
   ]
  },
  {
   "cell_type": "code",
   "execution_count": null,
   "metadata": {},
   "outputs": [],
   "source": [
    "class Feature():\n",
    "    \n"
   ]
  },
  {
   "cell_type": "code",
   "execution_count": null,
   "metadata": {},
   "outputs": [],
   "source": [
    "\n"
   ]
  }
 ],
 "metadata": {
  "kernelspec": {
   "display_name": "Python 3",
   "language": "python",
   "name": "python3"
  },
  "language_info": {
   "name": "python",
   "version": "3.12.6"
  }
 },
 "nbformat": 4,
 "nbformat_minor": 2
}
