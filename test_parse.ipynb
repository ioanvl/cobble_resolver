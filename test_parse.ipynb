{
 "cells": [
  {
   "cell_type": "code",
   "execution_count": 4,
   "metadata": {},
   "outputs": [],
   "source": [
    "impf = {\n",
    "    \"assets\": {\n",
    "        \"cobblemon\": {\n",
    "            \"bedrock\": {\n",
    "                \"animations\": {},\n",
    "                \"models\": {},\n",
    "                \"posers\": {},\n",
    "                \"resolvers\": {},\n",
    "            },\n",
    "            \"textures\": {\n",
    "                \"pokemon\": {},\n",
    "            },\n",
    "            \"lang\": {},\n",
    "        }\n",
    "    },\n",
    "    \"data\": {\n",
    "        \"cobblemon\": {\n",
    "            \"spawn_pool_world\": {},\n",
    "            \"species\": {},\n",
    "            \"species_additions\": {},\n",
    "            \"species_features\": {},\n",
    "            \"species_features_assignments\": {},\n",
    "        }\n",
    "    },\n",
    "}\n"
   ]
  },
  {
   "cell_type": "code",
   "execution_count": 5,
   "metadata": {},
   "outputs": [],
   "source": [
    "target_folder = \"F:/Users/Main/Desktop/mc_palette/mod_workshop/resource packs/cobble_2_0\"\n"
   ]
  },
  {
   "cell_type": "code",
   "execution_count": 7,
   "metadata": {},
   "outputs": [
    {
     "name": "stdout",
     "output_type": "stream",
     "text": [
      "['F:/Users/Main/Desktop/mc_palette/mod_workshop/resource '\n",
      " 'packs/cobble_2_0\\\\AlolaMons_v1.3.zip',\n",
      " 'F:/Users/Main/Desktop/mc_palette/mod_workshop/resource '\n",
      " 'packs/cobble_2_0\\\\Cobble-Remodels_v5.1.zip',\n",
      " 'F:/Users/Main/Desktop/mc_palette/mod_workshop/resource '\n",
      " 'packs/cobble_2_0\\\\cobblemon-main',\n",
      " 'F:/Users/Main/Desktop/mc_palette/mod_workshop/resource '\n",
      " 'packs/cobble_2_0\\\\Dracomon_0.6.10.zip',\n",
      " 'F:/Users/Main/Desktop/mc_palette/mod_workshop/resource '\n",
      " 'packs/cobble_2_0\\\\Legendary Structures v1.1.1.zip',\n",
      " 'F:/Users/Main/Desktop/mc_palette/mod_workshop/resource '\n",
      " 'packs/cobble_2_0\\\\Legendary_Encounters!.zip',\n",
      " 'F:/Users/Main/Desktop/mc_palette/mod_workshop/resource '\n",
      " 'packs/cobble_2_0\\\\LegendsMyths.zip',\n",
      " 'F:/Users/Main/Desktop/mc_palette/mod_workshop/resource '\n",
      " 'packs/cobble_2_0\\\\Missing Legends V1.0 [Full Release].zip',\n",
      " 'F:/Users/Main/Desktop/mc_palette/mod_workshop/resource '\n",
      " 'packs/cobble_2_0\\\\MoreMons - v0.5.4 [Thank you Prof. Eclipse!].zip',\n",
      " 'F:/Users/Main/Desktop/mc_palette/mod_workshop/resource '\n",
      " 'packs/cobble_2_0\\\\MysticMons_v2.0',\n",
      " 'F:/Users/Main/Desktop/mc_palette/mod_workshop/resource '\n",
      " 'packs/cobble_2_0\\\\MysticMons_v2.0.zip',\n",
      " 'F:/Users/Main/Desktop/mc_palette/mod_workshop/resource '\n",
      " 'packs/cobble_2_0\\\\MythsandLegends-Datapack-v1.0.2.zip',\n",
      " 'F:/Users/Main/Desktop/mc_palette/mod_workshop/resource '\n",
      " 'packs/cobble_2_0\\\\PocketMoensters_V5.0.zip',\n",
      " 'F:/Users/Main/Desktop/mc_palette/mod_workshop/resource '\n",
      " 'packs/cobble_2_0\\\\pokeinsanoV1.7.zip',\n",
      " 'F:/Users/Main/Desktop/mc_palette/mod_workshop/resource '\n",
      " 'packs/cobble_2_0\\\\StarsMonsV6.zip',\n",
      " 'F:/Users/Main/Desktop/mc_palette/mod_workshop/resource '\n",
      " 'packs/cobble_2_0\\\\z_AllTheMons-Release4-Version55.zip']\n"
     ]
    }
   ],
   "source": [
    "from glob import glob \n",
    "from pprint import pprint\n",
    "\n",
    "pprint(glob(f\"{target_folder}/*\"))"
   ]
  },
  {
   "cell_type": "code",
   "execution_count": null,
   "metadata": {},
   "outputs": [],
   "source": [
    "\n"
   ]
  }
 ],
 "metadata": {
  "kernelspec": {
   "display_name": "Python 3",
   "language": "python",
   "name": "python3"
  },
  "language_info": {
   "codemirror_mode": {
    "name": "ipython",
    "version": 3
   },
   "file_extension": ".py",
   "mimetype": "text/x-python",
   "name": "python",
   "nbconvert_exporter": "python",
   "pygments_lexer": "ipython3",
   "version": "3.12.6"
  }
 },
 "nbformat": 4,
 "nbformat_minor": 2
}
